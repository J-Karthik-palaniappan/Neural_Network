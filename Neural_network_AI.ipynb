{
 "cells": [
  {
   "cell_type": "code",
   "execution_count": null,
   "id": "0d3d81b8",
   "metadata": {},
   "outputs": [],
   "source": [
    "import pandas as pd"
   ]
  },
  {
   "cell_type": "markdown",
   "id": "0d576f73",
   "metadata": {},
   "source": [
    "# Importing data"
   ]
  },
  {
   "cell_type": "code",
   "execution_count": 3,
   "id": "ef0b1d7b",
   "metadata": {},
   "outputs": [],
   "source": [
    "df = pd.read_csv(r\"C:\\Users\\JAYANKONDAN\\Downloads\\housepricedata.csv\")"
   ]
  },
  {
   "cell_type": "code",
   "execution_count": 4,
   "id": "260e2960",
   "metadata": {},
   "outputs": [
    {
     "data": {
      "text/html": [
       "<div>\n",
       "<style scoped>\n",
       "    .dataframe tbody tr th:only-of-type {\n",
       "        vertical-align: middle;\n",
       "    }\n",
       "\n",
       "    .dataframe tbody tr th {\n",
       "        vertical-align: top;\n",
       "    }\n",
       "\n",
       "    .dataframe thead th {\n",
       "        text-align: right;\n",
       "    }\n",
       "</style>\n",
       "<table border=\"1\" class=\"dataframe\">\n",
       "  <thead>\n",
       "    <tr style=\"text-align: right;\">\n",
       "      <th></th>\n",
       "      <th>LotArea</th>\n",
       "      <th>OverallQual</th>\n",
       "      <th>OverallCond</th>\n",
       "      <th>TotalBsmtSF</th>\n",
       "      <th>FullBath</th>\n",
       "      <th>HalfBath</th>\n",
       "      <th>BedroomAbvGr</th>\n",
       "      <th>TotRmsAbvGrd</th>\n",
       "      <th>Fireplaces</th>\n",
       "      <th>GarageArea</th>\n",
       "      <th>AboveMedianPrice</th>\n",
       "    </tr>\n",
       "  </thead>\n",
       "  <tbody>\n",
       "    <tr>\n",
       "      <th>0</th>\n",
       "      <td>8450</td>\n",
       "      <td>7</td>\n",
       "      <td>5</td>\n",
       "      <td>856</td>\n",
       "      <td>2</td>\n",
       "      <td>1</td>\n",
       "      <td>3</td>\n",
       "      <td>8</td>\n",
       "      <td>0</td>\n",
       "      <td>548</td>\n",
       "      <td>1</td>\n",
       "    </tr>\n",
       "    <tr>\n",
       "      <th>1</th>\n",
       "      <td>9600</td>\n",
       "      <td>6</td>\n",
       "      <td>8</td>\n",
       "      <td>1262</td>\n",
       "      <td>2</td>\n",
       "      <td>0</td>\n",
       "      <td>3</td>\n",
       "      <td>6</td>\n",
       "      <td>1</td>\n",
       "      <td>460</td>\n",
       "      <td>1</td>\n",
       "    </tr>\n",
       "    <tr>\n",
       "      <th>2</th>\n",
       "      <td>11250</td>\n",
       "      <td>7</td>\n",
       "      <td>5</td>\n",
       "      <td>920</td>\n",
       "      <td>2</td>\n",
       "      <td>1</td>\n",
       "      <td>3</td>\n",
       "      <td>6</td>\n",
       "      <td>1</td>\n",
       "      <td>608</td>\n",
       "      <td>1</td>\n",
       "    </tr>\n",
       "    <tr>\n",
       "      <th>3</th>\n",
       "      <td>9550</td>\n",
       "      <td>7</td>\n",
       "      <td>5</td>\n",
       "      <td>756</td>\n",
       "      <td>1</td>\n",
       "      <td>0</td>\n",
       "      <td>3</td>\n",
       "      <td>7</td>\n",
       "      <td>1</td>\n",
       "      <td>642</td>\n",
       "      <td>0</td>\n",
       "    </tr>\n",
       "    <tr>\n",
       "      <th>4</th>\n",
       "      <td>14260</td>\n",
       "      <td>8</td>\n",
       "      <td>5</td>\n",
       "      <td>1145</td>\n",
       "      <td>2</td>\n",
       "      <td>1</td>\n",
       "      <td>4</td>\n",
       "      <td>9</td>\n",
       "      <td>1</td>\n",
       "      <td>836</td>\n",
       "      <td>1</td>\n",
       "    </tr>\n",
       "  </tbody>\n",
       "</table>\n",
       "</div>"
      ],
      "text/plain": [
       "   LotArea  OverallQual  OverallCond  TotalBsmtSF  FullBath  HalfBath  \\\n",
       "0     8450            7            5          856         2         1   \n",
       "1     9600            6            8         1262         2         0   \n",
       "2    11250            7            5          920         2         1   \n",
       "3     9550            7            5          756         1         0   \n",
       "4    14260            8            5         1145         2         1   \n",
       "\n",
       "   BedroomAbvGr  TotRmsAbvGrd  Fireplaces  GarageArea  AboveMedianPrice  \n",
       "0             3             8           0         548                 1  \n",
       "1             3             6           1         460                 1  \n",
       "2             3             6           1         608                 1  \n",
       "3             3             7           1         642                 0  \n",
       "4             4             9           1         836                 1  "
      ]
     },
     "execution_count": 4,
     "metadata": {},
     "output_type": "execute_result"
    }
   ],
   "source": [
    "df.head()"
   ]
  },
  {
   "cell_type": "markdown",
   "id": "7fa21352",
   "metadata": {},
   "source": [
    "## Pre processing"
   ]
  },
  {
   "cell_type": "code",
   "execution_count": 7,
   "id": "ede573dd",
   "metadata": {},
   "outputs": [],
   "source": [
    "x = df.iloc[:,0:10]"
   ]
  },
  {
   "cell_type": "code",
   "execution_count": 8,
   "id": "08125dac",
   "metadata": {},
   "outputs": [],
   "source": [
    "y = df.iloc[:,10:11]"
   ]
  },
  {
   "cell_type": "code",
   "execution_count": 10,
   "id": "319be156",
   "metadata": {},
   "outputs": [],
   "source": [
    "from sklearn import preprocessing\n",
    "min_max_scaler = preprocessing.MinMaxScaler()\n",
    "X_scale = min_max_scaler.fit_transform(x)"
   ]
  },
  {
   "cell_type": "code",
   "execution_count": 15,
   "id": "9099cf71",
   "metadata": {},
   "outputs": [],
   "source": [
    "from sklearn.model_selection import train_test_split\n",
    "x_train, x_test, y_train, y_test = train_test_split(X_scale, y, test_size=0.3)"
   ]
  },
  {
   "cell_type": "markdown",
   "id": "186d0618",
   "metadata": {},
   "source": [
    "# Simple neural network(sequential) from keras"
   ]
  },
  {
   "cell_type": "code",
   "execution_count": 17,
   "id": "56a7a451",
   "metadata": {},
   "outputs": [],
   "source": [
    "from keras.models import Sequential\n",
    "from keras.layers import Dense\n",
    "model = Sequential([\n",
    "    Dense(32, activation='relu', input_shape=(10,)),\n",
    "    Dense(32, activation='relu'),\n",
    "    Dense(1, activation='sigmoid'),\n",
    "])"
   ]
  },
  {
   "cell_type": "code",
   "execution_count": 18,
   "id": "aa1d937f",
   "metadata": {},
   "outputs": [],
   "source": [
    "model.compile(optimizer='sgd',\n",
    "              loss='binary_crossentropy',\n",
    "              metrics=['accuracy'])"
   ]
  },
  {
   "cell_type": "code",
   "execution_count": 20,
   "id": "a2968711",
   "metadata": {
    "collapsed": true
   },
   "outputs": [
    {
     "name": "stdout",
     "output_type": "stream",
     "text": [
      "Epoch 1/100\n",
      "32/32 [==============================] - 2s 4ms/step - loss: 0.7412 - accuracy: 0.4932\n",
      "Epoch 2/100\n",
      "32/32 [==============================] - 0s 3ms/step - loss: 0.7124 - accuracy: 0.4814\n",
      "Epoch 3/100\n",
      "32/32 [==============================] - 0s 3ms/step - loss: 0.6983 - accuracy: 0.4286\n",
      "Epoch 4/100\n",
      "32/32 [==============================] - 0s 3ms/step - loss: 0.6890 - accuracy: 0.5382\n",
      "Epoch 5/100\n",
      "32/32 [==============================] - 0s 4ms/step - loss: 0.6814 - accuracy: 0.5802\n",
      "Epoch 6/100\n",
      "32/32 [==============================] - 0s 5ms/step - loss: 0.6743 - accuracy: 0.5734\n",
      "Epoch 7/100\n",
      "32/32 [==============================] - 0s 4ms/step - loss: 0.6676 - accuracy: 0.6047\n",
      "Epoch 8/100\n",
      "32/32 [==============================] - 0s 4ms/step - loss: 0.6612 - accuracy: 0.6135\n",
      "Epoch 9/100\n",
      "32/32 [==============================] - 0s 3ms/step - loss: 0.6552 - accuracy: 0.6634\n",
      "Epoch 10/100\n",
      "32/32 [==============================] - 0s 5ms/step - loss: 0.6489 - accuracy: 0.7182\n",
      "Epoch 11/100\n",
      "32/32 [==============================] - 0s 4ms/step - loss: 0.6424 - accuracy: 0.7564\n",
      "Epoch 12/100\n",
      "32/32 [==============================] - 0s 3ms/step - loss: 0.6356 - accuracy: 0.7789\n",
      "Epoch 13/100\n",
      "32/32 [==============================] - 0s 4ms/step - loss: 0.6274 - accuracy: 0.8033\n",
      "Epoch 14/100\n",
      "32/32 [==============================] - 0s 4ms/step - loss: 0.6189 - accuracy: 0.8209\n",
      "Epoch 15/100\n",
      "32/32 [==============================] - 0s 4ms/step - loss: 0.6103 - accuracy: 0.8258\n",
      "Epoch 16/100\n",
      "32/32 [==============================] - 0s 4ms/step - loss: 0.6020 - accuracy: 0.8444\n",
      "Epoch 17/100\n",
      "32/32 [==============================] - 0s 6ms/step - loss: 0.5931 - accuracy: 0.8464\n",
      "Epoch 18/100\n",
      "32/32 [==============================] - 0s 4ms/step - loss: 0.5840 - accuracy: 0.8562\n",
      "Epoch 19/100\n",
      "32/32 [==============================] - 0s 4ms/step - loss: 0.5746 - accuracy: 0.8650\n",
      "Epoch 20/100\n",
      "32/32 [==============================] - 0s 4ms/step - loss: 0.5653 - accuracy: 0.8620\n",
      "Epoch 21/100\n",
      "32/32 [==============================] - 0s 4ms/step - loss: 0.5555 - accuracy: 0.8630\n",
      "Epoch 22/100\n",
      "32/32 [==============================] - 0s 5ms/step - loss: 0.5456 - accuracy: 0.8669\n",
      "Epoch 23/100\n",
      "32/32 [==============================] - 0s 3ms/step - loss: 0.5355 - accuracy: 0.8669\n",
      "Epoch 24/100\n",
      "32/32 [==============================] - 0s 4ms/step - loss: 0.5252 - accuracy: 0.8650\n",
      "Epoch 25/100\n",
      "32/32 [==============================] - 0s 5ms/step - loss: 0.5149 - accuracy: 0.8640\n",
      "Epoch 26/100\n",
      "32/32 [==============================] - 0s 5ms/step - loss: 0.5043 - accuracy: 0.8689\n",
      "Epoch 27/100\n",
      "32/32 [==============================] - 0s 4ms/step - loss: 0.4937 - accuracy: 0.8718\n",
      "Epoch 28/100\n",
      "32/32 [==============================] - 0s 4ms/step - loss: 0.4834 - accuracy: 0.8630\n",
      "Epoch 29/100\n",
      "32/32 [==============================] - 0s 4ms/step - loss: 0.4729 - accuracy: 0.8689\n",
      "Epoch 30/100\n",
      "32/32 [==============================] - 0s 4ms/step - loss: 0.4627 - accuracy: 0.8777\n",
      "Epoch 31/100\n",
      "32/32 [==============================] - 0s 4ms/step - loss: 0.4530 - accuracy: 0.8728\n",
      "Epoch 32/100\n",
      "32/32 [==============================] - 0s 4ms/step - loss: 0.4431 - accuracy: 0.8728\n",
      "Epoch 33/100\n",
      "32/32 [==============================] - 0s 5ms/step - loss: 0.4335 - accuracy: 0.8738\n",
      "Epoch 34/100\n",
      "32/32 [==============================] - 0s 4ms/step - loss: 0.4247 - accuracy: 0.8757\n",
      "Epoch 35/100\n",
      "32/32 [==============================] - 0s 4ms/step - loss: 0.4159 - accuracy: 0.8708\n",
      "Epoch 36/100\n",
      "32/32 [==============================] - 0s 4ms/step - loss: 0.4075 - accuracy: 0.8757\n",
      "Epoch 37/100\n",
      "32/32 [==============================] - 0s 4ms/step - loss: 0.3996 - accuracy: 0.8738\n",
      "Epoch 38/100\n",
      "32/32 [==============================] - 0s 4ms/step - loss: 0.3923 - accuracy: 0.8718\n",
      "Epoch 39/100\n",
      "32/32 [==============================] - 0s 4ms/step - loss: 0.3853 - accuracy: 0.8738\n",
      "Epoch 40/100\n",
      "32/32 [==============================] - 0s 4ms/step - loss: 0.3784 - accuracy: 0.8718\n",
      "Epoch 41/100\n",
      "32/32 [==============================] - 0s 5ms/step - loss: 0.3720 - accuracy: 0.8699\n",
      "Epoch 42/100\n",
      "32/32 [==============================] - 0s 4ms/step - loss: 0.3660 - accuracy: 0.8718\n",
      "Epoch 43/100\n",
      "32/32 [==============================] - 0s 4ms/step - loss: 0.3606 - accuracy: 0.8708\n",
      "Epoch 44/100\n",
      "32/32 [==============================] - 0s 4ms/step - loss: 0.3551 - accuracy: 0.8699\n",
      "Epoch 45/100\n",
      "32/32 [==============================] - 0s 4ms/step - loss: 0.3507 - accuracy: 0.8777\n",
      "Epoch 46/100\n",
      "32/32 [==============================] - 0s 4ms/step - loss: 0.3455 - accuracy: 0.8748\n",
      "Epoch 47/100\n",
      "32/32 [==============================] - 0s 4ms/step - loss: 0.3415 - accuracy: 0.8699\n",
      "Epoch 48/100\n",
      "32/32 [==============================] - 0s 4ms/step - loss: 0.3376 - accuracy: 0.8718\n",
      "Epoch 49/100\n",
      "32/32 [==============================] - 0s 4ms/step - loss: 0.3338 - accuracy: 0.8738\n",
      "Epoch 50/100\n",
      "32/32 [==============================] - 0s 5ms/step - loss: 0.3297 - accuracy: 0.8748\n",
      "Epoch 51/100\n",
      "32/32 [==============================] - 0s 5ms/step - loss: 0.3263 - accuracy: 0.8728\n",
      "Epoch 52/100\n",
      "32/32 [==============================] - 0s 4ms/step - loss: 0.3238 - accuracy: 0.8738\n",
      "Epoch 53/100\n",
      "32/32 [==============================] - 0s 4ms/step - loss: 0.3206 - accuracy: 0.8757\n",
      "Epoch 54/100\n",
      "32/32 [==============================] - 0s 3ms/step - loss: 0.3176 - accuracy: 0.8748\n",
      "Epoch 55/100\n",
      "32/32 [==============================] - 0s 4ms/step - loss: 0.3153 - accuracy: 0.8748\n",
      "Epoch 56/100\n",
      "32/32 [==============================] - 0s 4ms/step - loss: 0.3129 - accuracy: 0.8718\n",
      "Epoch 57/100\n",
      "32/32 [==============================] - 0s 3ms/step - loss: 0.3102 - accuracy: 0.8767\n",
      "Epoch 58/100\n",
      "32/32 [==============================] - 0s 4ms/step - loss: 0.3080 - accuracy: 0.8738\n",
      "Epoch 59/100\n",
      "32/32 [==============================] - 0s 4ms/step - loss: 0.3056 - accuracy: 0.8796\n",
      "Epoch 60/100\n",
      "32/32 [==============================] - 0s 3ms/step - loss: 0.3037 - accuracy: 0.8748\n",
      "Epoch 61/100\n",
      "32/32 [==============================] - 0s 3ms/step - loss: 0.3020 - accuracy: 0.8738\n",
      "Epoch 62/100\n",
      "32/32 [==============================] - 0s 5ms/step - loss: 0.3001 - accuracy: 0.8787\n",
      "Epoch 63/100\n",
      "32/32 [==============================] - 0s 3ms/step - loss: 0.2993 - accuracy: 0.8738\n",
      "Epoch 64/100\n",
      "32/32 [==============================] - 0s 4ms/step - loss: 0.2970 - accuracy: 0.8757\n",
      "Epoch 65/100\n",
      "32/32 [==============================] - 0s 4ms/step - loss: 0.2957 - accuracy: 0.8767\n",
      "Epoch 66/100\n",
      "32/32 [==============================] - 0s 5ms/step - loss: 0.2938 - accuracy: 0.8757\n",
      "Epoch 67/100\n",
      "32/32 [==============================] - 0s 4ms/step - loss: 0.2921 - accuracy: 0.8777\n",
      "Epoch 68/100\n",
      "32/32 [==============================] - 0s 4ms/step - loss: 0.2911 - accuracy: 0.8787\n",
      "Epoch 69/100\n",
      "32/32 [==============================] - 0s 4ms/step - loss: 0.2896 - accuracy: 0.8748\n",
      "Epoch 70/100\n",
      "32/32 [==============================] - 0s 4ms/step - loss: 0.2886 - accuracy: 0.8787\n",
      "Epoch 71/100\n",
      "32/32 [==============================] - 0s 4ms/step - loss: 0.2874 - accuracy: 0.8826\n",
      "Epoch 72/100\n",
      "32/32 [==============================] - 0s 5ms/step - loss: 0.2867 - accuracy: 0.8777\n",
      "Epoch 73/100\n",
      "32/32 [==============================] - 0s 4ms/step - loss: 0.2844 - accuracy: 0.8796\n",
      "Epoch 74/100\n",
      "32/32 [==============================] - 0s 4ms/step - loss: 0.2837 - accuracy: 0.8777\n",
      "Epoch 75/100\n",
      "32/32 [==============================] - 0s 4ms/step - loss: 0.2822 - accuracy: 0.8816\n",
      "Epoch 76/100\n",
      "32/32 [==============================] - 0s 4ms/step - loss: 0.2817 - accuracy: 0.8796\n",
      "Epoch 77/100\n",
      "32/32 [==============================] - 0s 4ms/step - loss: 0.2809 - accuracy: 0.8806\n",
      "Epoch 78/100\n",
      "32/32 [==============================] - 0s 5ms/step - loss: 0.2797 - accuracy: 0.8826\n",
      "Epoch 79/100\n",
      "32/32 [==============================] - 0s 4ms/step - loss: 0.2789 - accuracy: 0.8816\n",
      "Epoch 80/100\n",
      "32/32 [==============================] - 0s 4ms/step - loss: 0.2778 - accuracy: 0.8855\n",
      "Epoch 81/100\n",
      "32/32 [==============================] - 0s 4ms/step - loss: 0.2768 - accuracy: 0.8836\n",
      "Epoch 82/100\n",
      "32/32 [==============================] - 0s 4ms/step - loss: 0.2758 - accuracy: 0.8836\n",
      "Epoch 83/100\n"
     ]
    },
    {
     "name": "stdout",
     "output_type": "stream",
     "text": [
      "32/32 [==============================] - 0s 4ms/step - loss: 0.2751 - accuracy: 0.8796\n",
      "Epoch 84/100\n",
      "32/32 [==============================] - 0s 4ms/step - loss: 0.2747 - accuracy: 0.8865\n",
      "Epoch 85/100\n",
      "32/32 [==============================] - 0s 4ms/step - loss: 0.2740 - accuracy: 0.8836\n",
      "Epoch 86/100\n",
      "32/32 [==============================] - 0s 4ms/step - loss: 0.2728 - accuracy: 0.8845\n",
      "Epoch 87/100\n",
      "32/32 [==============================] - 0s 4ms/step - loss: 0.2723 - accuracy: 0.8836\n",
      "Epoch 88/100\n",
      "32/32 [==============================] - 0s 4ms/step - loss: 0.2710 - accuracy: 0.8845\n",
      "Epoch 89/100\n",
      "32/32 [==============================] - 0s 4ms/step - loss: 0.2708 - accuracy: 0.8865\n",
      "Epoch 90/100\n",
      "32/32 [==============================] - 0s 3ms/step - loss: 0.2696 - accuracy: 0.8894\n",
      "Epoch 91/100\n",
      "32/32 [==============================] - 0s 3ms/step - loss: 0.2687 - accuracy: 0.8875\n",
      "Epoch 92/100\n",
      "32/32 [==============================] - 0s 4ms/step - loss: 0.2688 - accuracy: 0.8865\n",
      "Epoch 93/100\n",
      "32/32 [==============================] - 0s 5ms/step - loss: 0.2682 - accuracy: 0.8855\n",
      "Epoch 94/100\n",
      "32/32 [==============================] - 0s 5ms/step - loss: 0.2664 - accuracy: 0.8894\n",
      "Epoch 95/100\n",
      "32/32 [==============================] - 0s 4ms/step - loss: 0.2668 - accuracy: 0.8855\n",
      "Epoch 96/100\n",
      "32/32 [==============================] - 0s 4ms/step - loss: 0.2656 - accuracy: 0.8875\n",
      "Epoch 97/100\n",
      "32/32 [==============================] - 0s 5ms/step - loss: 0.2644 - accuracy: 0.8885\n",
      "Epoch 98/100\n",
      "32/32 [==============================] - 0s 4ms/step - loss: 0.2643 - accuracy: 0.8904\n",
      "Epoch 99/100\n",
      "32/32 [==============================] - 0s 5ms/step - loss: 0.2644 - accuracy: 0.8855\n",
      "Epoch 100/100\n",
      "32/32 [==============================] - 0s 4ms/step - loss: 0.2631 - accuracy: 0.8904\n"
     ]
    },
    {
     "data": {
      "text/plain": [
       "<keras.callbacks.History at 0x1dca5d53f70>"
      ]
     },
     "execution_count": 20,
     "metadata": {},
     "output_type": "execute_result"
    }
   ],
   "source": [
    "model.fit(X_train, Y_train,\n",
    "          batch_size=32, epochs=100)"
   ]
  },
  {
   "cell_type": "code",
   "execution_count": 31,
   "id": "ba4d8678",
   "metadata": {},
   "outputs": [
    {
     "name": "stdout",
     "output_type": "stream",
     "text": [
      "14/14 [==============================] - 0s 4ms/step\n"
     ]
    }
   ],
   "source": [
    "pred=model.predict(x_test)\n",
    "res=((pred>0.2)*pred).astype(\"bool\")"
   ]
  },
  {
   "cell_type": "markdown",
   "id": "2eea75f0",
   "metadata": {},
   "source": [
    "# Neural network using numpy"
   ]
  },
  {
   "cell_type": "code",
   "execution_count": 84,
   "id": "017b2fff",
   "metadata": {},
   "outputs": [],
   "source": [
    "import numpy as np\n",
    "class nn:\n",
    "    def __init__(self,ip,op,itr):\n",
    "        self.ip=ip\n",
    "        self.op=op\n",
    "        print(ip.shape,op.shape)\n",
    "        self.l1_size=100\n",
    "        self.w1=np.random.rand(self.l1_size,self.ip.shape[1]+1).T*0.3-0.15\n",
    "        self.w2=np.random.rand(self.op.shape[1],self.l1_size+1).T*0.3-0.15\n",
    "        print(self.w1.shape,self.w2.shape)\n",
    "        for i in range(itr):\n",
    "            print(i,end=\"---\")\n",
    "            self.train()\n",
    "    \n",
    "    def sig(self,x):\n",
    "        return 1/(1+np.exp(-x))\n",
    "    \n",
    "    def train(self):\n",
    "        #===front propogation===#\n",
    "        ip=np.append(np.ones((len(self.ip),1)),self.ip,axis=1)\n",
    "        l1=self.sig(ip@self.w1)\n",
    "        l1=np.append(np.ones((len(l1),1)),l1,axis=1)\n",
    "        pred=self.sig(l1@self.w2)\n",
    "        #===back propogation===#\n",
    "        #error at each layer\n",
    "        d3 = (pred - self.op)\n",
    "        d2 = (d3 @ self.w2.T * l1 * (1-l1))\n",
    "        d2 = d2[:,1:]\n",
    "        #altering weights\n",
    "        self.w2-= (l1.T @ d3)/len(ip)\n",
    "        self.w1-= (ip.T @ d2)/len(ip)\n",
    "        \n",
    "    def predict(self,ip):\n",
    "        ip=np.append(np.ones((len(ip),1)),ip,axis=1)\n",
    "        l1=self.sig(ip@self.w1)\n",
    "        l1=np.append(np.ones((len(l1),1)),l1,axis=1)\n",
    "        pred=self.sig(l1@self.w2)\n",
    "        return pred"
   ]
  },
  {
   "cell_type": "code",
   "execution_count": 85,
   "id": "e1ecda98",
   "metadata": {},
   "outputs": [
    {
     "name": "stdout",
     "output_type": "stream",
     "text": [
      "(1022, 10) (1022, 1)\n",
      "(11, 100) (101, 1)\n",
      "0---1---2---3---4---5---6---7---8---9---10---11---12---13---14---15---16---17---18---19---20---21---22---23---24---25---26---27---28---29---30---31---32---33---34---35---36---37---38---39---40---41---42---43---44---45---46---47---48---49---50---51---52---53---54---55---56---57---58---59---60---61---62---63---64---65---66---67---68---69---70---71---72---73---74---75---76---77---78---79---80---81---82---83---84---85---86---87---88---89---90---91---92---93---94---95---96---97---98---99---"
     ]
    }
   ],
   "source": [
    "y_train = np.array(y_train)\n",
    "net = nn(x_train,y_train,100)"
   ]
  },
  {
   "cell_type": "code",
   "execution_count": 86,
   "id": "c9ce769f",
   "metadata": {},
   "outputs": [],
   "source": [
    "pred1 = net.predict(x_test)\n",
    "res1 = ((pred1>0.3)*pred).astype(bool)"
   ]
  },
  {
   "cell_type": "markdown",
   "id": "4c9df0d0",
   "metadata": {},
   "source": [
    "# comparison of results"
   ]
  },
  {
   "cell_type": "code",
   "execution_count": 87,
   "id": "556cc855",
   "metadata": {},
   "outputs": [],
   "source": [
    "acc = lambda ytst,ypred : np.mean(np.abs(ytst!=ypred))"
   ]
  },
  {
   "cell_type": "code",
   "execution_count": 88,
   "id": "66270d10",
   "metadata": {},
   "outputs": [
    {
     "data": {
      "text/plain": [
       "AboveMedianPrice    0.13242\n",
       "dtype: float64"
      ]
     },
     "execution_count": 88,
     "metadata": {},
     "output_type": "execute_result"
    }
   ],
   "source": [
    "acc(res,y_test)"
   ]
  },
  {
   "cell_type": "code",
   "execution_count": 89,
   "id": "4a82823b",
   "metadata": {},
   "outputs": [
    {
     "data": {
      "text/plain": [
       "AboveMedianPrice    0.146119\n",
       "dtype: float64"
      ]
     },
     "execution_count": 89,
     "metadata": {},
     "output_type": "execute_result"
    }
   ],
   "source": [
    "acc(res1,y_test)"
   ]
  },
  {
   "cell_type": "markdown",
   "id": "0e710474",
   "metadata": {},
   "source": [
    "### for equal number of epochs, keras sequential works slightly better"
   ]
  },
  {
   "cell_type": "code",
   "execution_count": 90,
   "id": "3ecea28d",
   "metadata": {},
   "outputs": [
    {
     "name": "stdout",
     "output_type": "stream",
     "text": [
      "(1022, 10) (1022, 1)\n",
      "(11, 100) (101, 1)\n",
      "0---1---2---3---4---5---6---7---8---9---10---11---12---13---14---15---16---17---18---19---20---21---22---23---24---25---26---27---28---29---30---31---32---33---34---35---36---37---38---39---40---41---42---43---44---45---46---47---48---49---50---51---52---53---54---55---56---57---58---59---60---61---62---63---64---65---66---67---68---69---70---71---72---73---74---75---76---77---78---79---80---81---82---83---84---85---86---87---88---89---90---91---92---93---94---95---96---97---98---99---100---101---102---103---104---105---106---107---108---109---110---111---112---113---114---115---116---117---118---119---120---121---122---123---124---125---126---127---128---129---130---131---132---133---134---135---136---137---138---139---140---141---142---143---144---145---146---147---148---149---150---151---152---153---154---155---156---157---158---159---160---161---162---163---164---165---166---167---168---169---170---171---172---173---174---175---176---177---178---179---180---181---182---183---184---185---186---187---188---189---190---191---192---193---194---195---196---197---198---199---"
     ]
    }
   ],
   "source": [
    "net = nn(x_train,y_train,200)"
   ]
  },
  {
   "cell_type": "code",
   "execution_count": null,
   "id": "af795290",
   "metadata": {},
   "outputs": [],
   "source": [
    "pred1 = net.predict(x_test)\n",
    "res1 = ((pred1>0.3)*pred).astype(bool)\n",
    "acc(res1,y_test)"
   ]
  },
  {
   "cell_type": "markdown",
   "id": "448f9827",
   "metadata": {},
   "source": [
    "### when the number of iterations is increased, we see that the accuracy is also increased"
   ]
  },
  {
   "cell_type": "markdown",
   "id": "0f08e54a",
   "metadata": {},
   "source": [
    "#### Karthik palaniappan"
   ]
  }
 ],
 "metadata": {
  "kernelspec": {
   "display_name": "Python 3 (ipykernel)",
   "language": "python",
   "name": "python3"
  },
  "language_info": {
   "codemirror_mode": {
    "name": "ipython",
    "version": 3
   },
   "file_extension": ".py",
   "mimetype": "text/x-python",
   "name": "python",
   "nbconvert_exporter": "python",
   "pygments_lexer": "ipython3",
   "version": "3.9.7"
  }
 },
 "nbformat": 4,
 "nbformat_minor": 5
}
